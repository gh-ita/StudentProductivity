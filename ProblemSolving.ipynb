{
  "nbformat": 4,
  "nbformat_minor": 0,
  "metadata": {
    "colab": {
      "provenance": [],
      "authorship_tag": "ABX9TyO0TxDVla6MUOMOT1nCIlKU",
      "include_colab_link": true
    },
    "kernelspec": {
      "name": "python3",
      "display_name": "Python 3"
    },
    "language_info": {
      "name": "python"
    }
  },
  "cells": [
    {
      "cell_type": "markdown",
      "metadata": {
        "id": "view-in-github",
        "colab_type": "text"
      },
      "source": [
        "<a href=\"https://colab.research.google.com/github/gh-ita/StudentProductivity/blob/main/ProblemSolving.ipynb\" target=\"_parent\"><img src=\"https://colab.research.google.com/assets/colab-badge.svg\" alt=\"Open In Colab\"/></a>"
      ]
    },
    {
      "cell_type": "code",
      "execution_count": 41,
      "metadata": {
        "id": "EGIG2uP41wJe"
      },
      "outputs": [],
      "source": [
        "import pandas as pd\n",
        "from sklearn.preprocessing import OneHotEncoder, StandardScaler\n",
        "from scipy.cluster.hierarchy import linkage, dendrogram\n",
        "import numpy as np"
      ]
    },
    {
      "cell_type": "code",
      "source": [
        "dataset_path = '/content/student_data.csv'\n",
        "student_df = pd.read_csv(dataset_path)"
      ],
      "metadata": {
        "id": "RbhK18M_48fq"
      },
      "execution_count": 2,
      "outputs": []
    },
    {
      "cell_type": "code",
      "source": [
        "print(student_df.head())"
      ],
      "metadata": {
        "colab": {
          "base_uri": "https://localhost:8080/"
        },
        "id": "KPldMMGU6tKd",
        "outputId": "7a4f5ad9-1616-47bb-8b53-d0dab3695d82"
      },
      "execution_count": 15,
      "outputs": [
        {
          "output_type": "stream",
          "name": "stdout",
          "text": [
            "  school sex  age address famsize Pstatus  Medu  Fedu     Mjob      Fjob  ...  \\\n",
            "0     GP   F   18       U     GT3       A     4     4  at_home   teacher  ...   \n",
            "1     GP   F   17       U     GT3       T     1     1  at_home     other  ...   \n",
            "2     GP   F   15       U     LE3       T     1     1  at_home     other  ...   \n",
            "3     GP   F   15       U     GT3       T     4     2   health  services  ...   \n",
            "4     GP   F   16       U     GT3       T     3     3    other     other  ...   \n",
            "\n",
            "  famrel freetime  goout  Dalc  Walc health absences  G1  G2  G3  \n",
            "0      4        3      4     1     1      3        6   5   6   6  \n",
            "1      5        3      3     1     1      3        4   5   5   6  \n",
            "2      4        3      2     2     3      3       10   7   8  10  \n",
            "3      3        2      2     1     1      5        2  15  14  15  \n",
            "4      4        3      2     1     2      5        4   6  10  10  \n",
            "\n",
            "[5 rows x 33 columns]\n"
          ]
        }
      ]
    },
    {
      "cell_type": "code",
      "source": [
        "student_df.columns.tolist()"
      ],
      "metadata": {
        "colab": {
          "base_uri": "https://localhost:8080/"
        },
        "id": "kiG0PmMd8RfM",
        "outputId": "22eeceb8-88a5-4759-c06b-996827ace24e"
      },
      "execution_count": 16,
      "outputs": [
        {
          "output_type": "execute_result",
          "data": {
            "text/plain": [
              "['school',\n",
              " 'sex',\n",
              " 'age',\n",
              " 'address',\n",
              " 'famsize',\n",
              " 'Pstatus',\n",
              " 'Medu',\n",
              " 'Fedu',\n",
              " 'Mjob',\n",
              " 'Fjob',\n",
              " 'reason',\n",
              " 'guardian',\n",
              " 'traveltime',\n",
              " 'studytime',\n",
              " 'failures',\n",
              " 'schoolsup',\n",
              " 'famsup',\n",
              " 'paid',\n",
              " 'activities',\n",
              " 'nursery',\n",
              " 'higher',\n",
              " 'internet',\n",
              " 'romantic',\n",
              " 'famrel',\n",
              " 'freetime',\n",
              " 'goout',\n",
              " 'Dalc',\n",
              " 'Walc',\n",
              " 'health',\n",
              " 'absences',\n",
              " 'G1',\n",
              " 'G2',\n",
              " 'G3']"
            ]
          },
          "metadata": {},
          "execution_count": 16
        }
      ]
    },
    {
      "cell_type": "markdown",
      "source": [
        "Cette table contient 33 colonnes"
      ],
      "metadata": {
        "id": "HUgA-0co8a4d"
      }
    },
    {
      "cell_type": "code",
      "source": [
        "numerical_features = student_df.select_dtypes(include=['float64', 'int64']).columns.tolist()\n",
        "print(numerical_features)\n",
        "print(len(numerical_features))"
      ],
      "metadata": {
        "colab": {
          "base_uri": "https://localhost:8080/"
        },
        "id": "JFDWSmqO8y3Y",
        "outputId": "14e7b020-2e89-46a5-e621-df1ed50f1271"
      },
      "execution_count": 21,
      "outputs": [
        {
          "output_type": "stream",
          "name": "stdout",
          "text": [
            "['age', 'Medu', 'Fedu', 'traveltime', 'studytime', 'failures', 'famrel', 'freetime', 'goout', 'Dalc', 'Walc', 'health', 'absences', 'G1', 'G2', 'G3']\n",
            "16\n"
          ]
        }
      ]
    },
    {
      "cell_type": "markdown",
      "source": [
        "On a 16 variables numériques et 14 variables catégoriques"
      ],
      "metadata": {
        "id": "FlCmoJUu9WYg"
      }
    },
    {
      "cell_type": "code",
      "source": [
        "print(student_df.describe())"
      ],
      "metadata": {
        "colab": {
          "base_uri": "https://localhost:8080/"
        },
        "id": "_rHeAUxR6_s_",
        "outputId": "97d66f8f-8997-4f04-8694-a3e4ee1c72c4"
      },
      "execution_count": 13,
      "outputs": [
        {
          "output_type": "stream",
          "name": "stdout",
          "text": [
            "              age        Medu        Fedu  traveltime   studytime    failures  \\\n",
            "count  395.000000  395.000000  395.000000  395.000000  395.000000  395.000000   \n",
            "mean    16.696203    2.749367    2.521519    1.448101    2.035443    0.334177   \n",
            "std      1.276043    1.094735    1.088201    0.697505    0.839240    0.743651   \n",
            "min     15.000000    0.000000    0.000000    1.000000    1.000000    0.000000   \n",
            "25%     16.000000    2.000000    2.000000    1.000000    1.000000    0.000000   \n",
            "50%     17.000000    3.000000    2.000000    1.000000    2.000000    0.000000   \n",
            "75%     18.000000    4.000000    3.000000    2.000000    2.000000    0.000000   \n",
            "max     22.000000    4.000000    4.000000    4.000000    4.000000    3.000000   \n",
            "\n",
            "           famrel    freetime       goout        Dalc        Walc      health  \\\n",
            "count  395.000000  395.000000  395.000000  395.000000  395.000000  395.000000   \n",
            "mean     3.944304    3.235443    3.108861    1.481013    2.291139    3.554430   \n",
            "std      0.896659    0.998862    1.113278    0.890741    1.287897    1.390303   \n",
            "min      1.000000    1.000000    1.000000    1.000000    1.000000    1.000000   \n",
            "25%      4.000000    3.000000    2.000000    1.000000    1.000000    3.000000   \n",
            "50%      4.000000    3.000000    3.000000    1.000000    2.000000    4.000000   \n",
            "75%      5.000000    4.000000    4.000000    2.000000    3.000000    5.000000   \n",
            "max      5.000000    5.000000    5.000000    5.000000    5.000000    5.000000   \n",
            "\n",
            "         absences          G1          G2          G3  \n",
            "count  395.000000  395.000000  395.000000  395.000000  \n",
            "mean     5.708861   10.908861   10.713924   10.415190  \n",
            "std      8.003096    3.319195    3.761505    4.581443  \n",
            "min      0.000000    3.000000    0.000000    0.000000  \n",
            "25%      0.000000    8.000000    9.000000    8.000000  \n",
            "50%      4.000000   11.000000   11.000000   11.000000  \n",
            "75%      8.000000   13.000000   13.000000   14.000000  \n",
            "max     75.000000   19.000000   19.000000   20.000000  \n"
          ]
        }
      ]
    },
    {
      "cell_type": "code",
      "source": [
        "print(\"Le nombre de valeurs manquantes est : \")\n",
        "print(student_df.isnull().sum().sum())"
      ],
      "metadata": {
        "colab": {
          "base_uri": "https://localhost:8080/"
        },
        "id": "hHKNTsIn8Ao4",
        "outputId": "989fa16e-7f20-4464-90c5-a930f4a1c129"
      },
      "execution_count": 14,
      "outputs": [
        {
          "output_type": "stream",
          "name": "stdout",
          "text": [
            "Le nombre de valeurs manquantes est : \n",
            "0\n"
          ]
        }
      ]
    },
    {
      "cell_type": "markdown",
      "source": [
        "On n'a pas de valeurs manquantes"
      ],
      "metadata": {
        "id": "NKY7YGpB9lPc"
      }
    },
    {
      "cell_type": "code",
      "source": [
        "student_df = student_df.drop(['guardian','schoolsup' , 'paid' , 'nursery' ,'higher' ,'romantic' ,'Dalc' ,'Walc'],1)"
      ],
      "metadata": {
        "colab": {
          "base_uri": "https://localhost:8080/"
        },
        "id": "NMfiw9M69kGO",
        "outputId": "cf136278-d63b-4773-862b-dbc379f7fb3e"
      },
      "execution_count": 23,
      "outputs": [
        {
          "output_type": "stream",
          "name": "stderr",
          "text": [
            "<ipython-input-23-9027f2bc73fb>:1: FutureWarning: In a future version of pandas all arguments of DataFrame.drop except for the argument 'labels' will be keyword-only.\n",
            "  student_df = student_df.drop(['guardian','schoolsup' , 'paid' , 'nursery' ,'higher' ,'romantic' ,'Dalc' ,'Walc'],1)\n"
          ]
        }
      ]
    },
    {
      "cell_type": "code",
      "source": [
        "print(\"La table contient maintenant \",len(student_df.columns.tolist()), \" colonnes\")\n",
        "numerical_features = student_df.select_dtypes(include=['float64', 'int64']).columns.tolist()\n",
        "categorical_features = student_df.select_dtypes(include='object').columns.tolist()\n",
        "print(numerical_features)\n",
        "print(\"On a \",len(numerical_features),\" variables numériques\")\n",
        "print(categorical_features)\n",
        "print(\"On a \",len(categorical_features),\" variables catégoriques\")"
      ],
      "metadata": {
        "colab": {
          "base_uri": "https://localhost:8080/"
        },
        "id": "BtU3n2b3-Q98",
        "outputId": "507ed107-de88-4253-d540-aaeae38e83d0"
      },
      "execution_count": 29,
      "outputs": [
        {
          "output_type": "stream",
          "name": "stdout",
          "text": [
            "La table contient maintenant  25  colonnes\n",
            "['age', 'Medu', 'Fedu', 'traveltime', 'studytime', 'failures', 'famrel', 'freetime', 'goout', 'health', 'absences', 'G1', 'G2', 'G3']\n",
            "On a  14  variables numériques\n",
            "['school', 'sex', 'address', 'famsize', 'Pstatus', 'Mjob', 'Fjob', 'reason', 'famsup', 'activities', 'internet']\n",
            "On a  11  variables catégoriques\n"
          ]
        }
      ]
    },
    {
      "cell_type": "markdown",
      "source": [
        "On a enlevé 8 variables qui n'ont pas de relation avec le contexte de notre étude. La table contient maintenant 14 variables numériques et 11 variables catégoriques."
      ],
      "metadata": {
        "id": "tDjzA0qq-a1-"
      }
    },
    {
      "cell_type": "code",
      "source": [
        "encoder = OneHotEncoder()\n",
        "\n",
        "numerical_features_df = student_df.select_dtypes(include=['float64', 'int64'])\n",
        "categorical_features_df = student_df.select_dtypes(include='object')\n",
        "\n",
        "#application du onehotencoder afin de transformer les variables categoriques en des variables numériques\n",
        "categorical_tonumerical_features = encoder.fit_transform(categorical_features_df).toarray()\n",
        "numerical_features_array = numerical_features_df.values\n",
        "\n",
        "#conctanénation des deux numpy arrays, une contenant les variables numeriques et l'autre les variables categoriques transformées\n",
        "student_array = np.concatenate((numerical_features_array,categorical_tonumerical_features),axis=1)\n",
        "student_array.shape"
      ],
      "metadata": {
        "colab": {
          "base_uri": "https://localhost:8080/"
        },
        "id": "tHPZIBOr-sJW",
        "outputId": "92153db5-1ef5-434b-d42a-5ca9ff0a87f0"
      },
      "execution_count": 37,
      "outputs": [
        {
          "output_type": "execute_result",
          "data": {
            "text/plain": [
              "(395, 44)"
            ]
          },
          "metadata": {},
          "execution_count": 37
        }
      ]
    },
    {
      "cell_type": "markdown",
      "source": [
        "La nouvelle table contient 44 variables numériques"
      ],
      "metadata": {
        "id": "UtkhmqseEt6o"
      }
    },
    {
      "cell_type": "code",
      "source": [
        "standarisation = StandardScaler()\n",
        "\n",
        "student_data_standarise = standarisation.fit_transform(student_array)\n"
      ],
      "metadata": {
        "id": "FzTIsw6vE1fP"
      },
      "execution_count": 40,
      "outputs": []
    },
    {
      "cell_type": "code",
      "source": [
        "# Compute the correlation matrix\n",
        "correlation_matrix = np.corrcoef(student_data_standarise, rowvar=False)\n",
        "\n",
        "# Perform hierarchical clustering using correlation as distance\n",
        "linkage_matrix = linkage(correlation_matrix, method='average')  # 'average' linkage method\n",
        "\n",
        "# Plot dendrogram\n",
        "import matplotlib.pyplot as plt\n",
        "plt.figure(figsize=(10, 7))\n",
        "dendrogram(linkage_matrix)\n",
        "plt.title('Dendrogram using Correlation as Distance')\n",
        "plt.xlabel('Students')\n",
        "plt.ylabel('Distance')\n",
        "plt.show()\n"
      ],
      "metadata": {
        "colab": {
          "base_uri": "https://localhost:8080/",
          "height": 641
        },
        "id": "sRDrCc67JYz-",
        "outputId": "7889a5f8-53d9-49ff-a5ff-5fda4f5a6420"
      },
      "execution_count": 42,
      "outputs": [
        {
          "output_type": "display_data",
          "data": {
            "text/plain": [
              "<Figure size 1000x700 with 1 Axes>"
            ],
            "image/png": "[encoded data removed]"
          },
          "metadata": {}
        }
      ]
    }
  ]
}